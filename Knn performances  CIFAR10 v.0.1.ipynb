{
 "cells": [
  {
   "cell_type": "code",
   "execution_count": 19,
   "metadata": {},
   "outputs": [],
   "source": [
    "from sklearn.metrics import confusion_matrix\n",
    "import pandas as pd\n",
    "from os import listdir\n",
    "import json\n",
    "import os\n",
    "import pickle as pk\n",
    "import numpy as np"
   ]
  },
  {
   "cell_type": "code",
   "execution_count": 17,
   "metadata": {},
   "outputs": [],
   "source": [
    "# Function to load a batch into memory\n",
    "def load_batch(data_dir, batch_id):\n",
    "    with open(os.path.join(data_dir, 'data_batch_%i' % batch_id), mode='rb') as file:\n",
    "        batch = pk.load(file, encoding='latin1')\n",
    "    feats = batch['data'].reshape((len(batch['data']), 3, 32, 32)).transpose(0, 2, 3, 1)\n",
    "    lbls = batch['labels']\n",
    "    return feats, lbls\n",
    "\n",
    "# Load the first batch\n",
    "feats, labels = load_batch('cifar10', 1)\n",
    "label_names = ['airplane', 'automobile', 'bird', 'cat', 'deer', 'dog', 'frog', 'horse', 'ship', 'truck']"
   ]
  },
  {
   "cell_type": "code",
   "execution_count": 4,
   "metadata": {},
   "outputs": [],
   "source": [
    "def load_from_json(file:str):\n",
    "    return json.loads(open(f'embeddings/{file}').read())"
   ]
  },
  {
   "cell_type": "code",
   "execution_count": 24,
   "metadata": {},
   "outputs": [],
   "source": [
    "from sklearn.preprocessing import scale\n",
    "def split_set(embeddings, labels, sample_size):\n",
    "    n_embeddings= scale(embeddings)\n",
    "    indices = np.random.permutation(sample_size)\n",
    "    training_idx, dev_idx,test_idx = indices[:int(0.6*sample_size)], indices[int(0.6*sample_size):int(0.8*sample_size)],indices[int(0.8*sample_size):]\n",
    "    feats_train,feats_dev, feats_test = n_embeddings[training_idx,:],n_embeddings[dev_idx,:], n_embeddings[test_idx,:]\n",
    "    labels_train,labels_dev, labels_test = np.array([labels[i] for i in training_idx]),np.array([labels[i] for i in dev_idx]), np.array([labels[i] for i in test_idx])\n",
    "    return [feats_train,feats_dev, feats_test],[labels_train,labels_dev, labels_test]"
   ]
  },
  {
   "cell_type": "code",
   "execution_count": 9,
   "metadata": {},
   "outputs": [],
   "source": [
    "from sklearn.neighbors import KNeighborsClassifier\n",
    "def train_knn_and_test(train,dev,labels_train,labels_dev):\n",
    "    knn = KNeighborsClassifier(n_neighbors=10)\n",
    "    knn.fit(train,labels_train)\n",
    "    return knn,knn.score(train, labels_train), knn.score(dev, labels_dev)"
   ]
  },
  {
   "cell_type": "code",
   "execution_count": 10,
   "metadata": {},
   "outputs": [],
   "source": [
    "from sklearn.decomposition import PCA\n",
    "def train_pca(train_set, percentage=90):\n",
    "    for i in range(50,min(sample_size,4096),50):\n",
    "        pca = PCA(n_components=i)\n",
    "        pca.fit(train_set)\n",
    "        if np.sum(100*pca.explained_variance_ratio_) > percentage:\n",
    "            return i,pca"
   ]
  },
  {
   "cell_type": "code",
   "execution_count": 11,
   "metadata": {},
   "outputs": [],
   "source": [
    "def train_tsne(train_set):\n",
    "    tsne = TSNE()\n",
    "    tsne.fit(embeddings)\n",
    "    return tsne"
   ]
  },
  {
   "cell_type": "markdown",
   "metadata": {},
   "source": [
    "## Training with and without pca"
   ]
  },
  {
   "cell_type": "code",
   "execution_count": 27,
   "metadata": {},
   "outputs": [
    {
     "name": "stdout",
     "output_type": "stream",
     "text": [
      "Counter({1: 55, 6: 52, 0: 45, 7: 44, 4: 42, 8: 39, 2: 38, 9: 38, 3: 26, 5: 21})\n",
      "Trained pca with 250 components\n",
      "   PCA  Train accuracy  Dev accuracy\n",
      "0  0.0        0.516667         0.325\n",
      "1  1.0        0.501667         0.325\n",
      "Counter({2: 143, 4: 127, 3: 124, 6: 123, 0: 122, 7: 122, 9: 120, 5: 115, 1: 114, 8: 90})\n",
      "Trained pca with 500 components\n",
      "   PCA  Train accuracy  Dev accuracy\n",
      "0  0.0        0.541667      0.436667\n",
      "1  1.0        0.546111      0.445000\n"
     ]
    }
   ],
   "source": [
    "from collections import Counter\n",
    "for file in listdir('./embeddings'):\n",
    "    if '.json' in file :\n",
    "        df = pd.DataFrame(columns=['PCA','Train accuracy', 'Dev accuracy'])\n",
    "        sample_size = int(file[file.index('vgg16_')+6:file.index('.')])\n",
    "        embeddings = load_from_json(file)\n",
    "        \n",
    "        # Spit the data\n",
    "        [feats_train,feats_dev, feats_test],[labels_train,labels_dev, labels_test] = split_set(\n",
    "            embeddings, labels[:sample_size], sample_size)\n",
    "\n",
    "        # Train knn\n",
    "        knn, knn_train_score, knn_test_score = train_knn_and_test(feats_train,feats_dev,labels_train,labels_dev)\n",
    "        \n",
    "        df.loc[0] = [0,knn_train_score,knn_test_score ]\n",
    "        \n",
    "        # Fit pca\n",
    "        i,pca = train_pca(feats_train)\n",
    "        print(f'Trained pca with {i} components')\n",
    "        \n",
    "        # Train knn\n",
    "        knn, knn_train_score, knn_test_score = train_knn_and_test(pca.transform(feats_train),pca.transform(feats_dev),labels_train,labels_dev)\n",
    "        df.loc[1] = [1,knn_train_score,knn_test_score]\n",
    "        print(df)"
   ]
  },
  {
   "cell_type": "code",
   "execution_count": 32,
   "metadata": {},
   "outputs": [
    {
     "name": "stdout",
     "output_type": "stream",
     "text": [
      "0 0.3333333333333341\n",
      "1 0.11111111111111044\n",
      "2 1.7222222222222223\n",
      "3 0.6666666666666667\n",
      "4 0.2777777777777782\n",
      "5 0.6111111111111109\n",
      "6 0.16666666666666635\n",
      "7 0.6666666666666667\n",
      "8 3.1111111111111116\n",
      "9 0.3333333333333327\n"
     ]
    }
   ],
   "source": [
    "counter_1 = Counter(list(labels_train))\n",
    "counter_2 = Counter(list(labels_dev))\n",
    "len_1 = len(labels_train)\n",
    "len_2 = len(labels_dev)\n",
    "for i in range(10):\n",
    "    print(i,100*abs(counter_1 [i]/len_1 - counter_2[i]/len_2))"
   ]
  },
  {
   "cell_type": "code",
   "execution_count": 207,
   "metadata": {},
   "outputs": [
    {
     "data": {
      "text/plain": [
       "array([[23,  6,  4,  3,  2,  2,  3,  2,  6,  4],\n",
       "       [ 4, 23,  6,  2,  2,  3,  3,  4,  4,  8],\n",
       "       [ 3,  2, 13,  3,  4,  2,  2,  2,  0,  0],\n",
       "       [ 2,  4,  7, 15,  3, 12,  3,  2,  4,  2],\n",
       "       [ 1,  0, 12, 11, 24,  9, 17, 10,  4,  0],\n",
       "       [ 5,  5,  3, 10,  4, 15,  6,  9,  1,  2],\n",
       "       [ 1,  5,  9,  8,  5,  4, 28,  0,  1,  2],\n",
       "       [ 2,  5,  3,  0,  8,  3,  2, 13,  2,  7],\n",
       "       [17,  1,  0,  0,  1,  1,  1,  1, 40,  1],\n",
       "       [ 6, 12,  1,  3,  3,  2,  4,  3,  5, 43]])"
      ]
     },
     "execution_count": 207,
     "metadata": {},
     "output_type": "execute_result"
    }
   ],
   "source": [
    "confusion_matrix(knn.predict(pca.transform(feats_dev)), labels_dev)\n",
    "#['airplane', 'automobile', 'bird', 'cat', 'deer', 'dog', 'frog', 'horse', 'ship', 'truck']"
   ]
  },
  {
   "cell_type": "code",
   "execution_count": 68,
   "metadata": {},
   "outputs": [],
   "source": [
    "from sklearn.manifold import TSNE\n",
    "embeddings = np.array(load_from_json('embeddings_3000.json'))\n"
   ]
  },
  {
   "cell_type": "markdown",
   "metadata": {},
   "source": [
    "## Training with and without t-SNE"
   ]
  },
  {
   "cell_type": "code",
   "execution_count": 87,
   "metadata": {},
   "outputs": [
    {
     "name": "stdout",
     "output_type": "stream",
     "text": [
      "   tSNE  Train accuracy  Dev accuracy\n",
      "0   0.0        0.493333          0.37\n",
      "1   1.0        0.438333          0.10\n",
      "   tSNE  Train accuracy  Dev accuracy\n",
      "0   0.0        0.546667      0.431667\n",
      "1   1.0        0.459444      0.093333\n"
     ]
    }
   ],
   "source": [
    "for file in listdir('./embeddings'):\n",
    "    if '.json' in file:\n",
    "        df = pd.DataFrame(columns=['tSNE','Train accuracy', 'Dev accuracy'])\n",
    "        sample_size = int(file[file.index('vgg16_')+6:file.index('.')])\n",
    "        embeddings = load_from_json(file)\n",
    "        \n",
    "        # Spit the data\n",
    "        [feats_train,feats_dev, feats_test],[labels_train,labels_dev, labels_test] = split_set(\n",
    "            embeddings, labels[:sample_size], sample_size)\n",
    "\n",
    "        # Train knn\n",
    "        knn, knn_train_score, knn_test_score = train_knn_and_test(feats_train,feats_dev,labels_train,labels_dev)\n",
    "        \n",
    "        df.loc[0] = [0,knn_train_score,knn_test_score ]\n",
    "        \n",
    "        # Train knn with TSNE\n",
    "        knn, knn_train_score, knn_test_score = train_knn_and_test(TSNE().fit_transform(feats_train),TSNE().fit_transform(feats_dev),labels_train,labels_dev)\n",
    "        df.loc[1] = [1,knn_train_score,knn_test_score]\n",
    "        print(df)"
   ]
  }
 ],
 "metadata": {
  "kernelspec": {
   "display_name": "Python 3",
   "language": "python",
   "name": "python3"
  },
  "language_info": {
   "codemirror_mode": {
    "name": "ipython",
    "version": 3
   },
   "file_extension": ".py",
   "mimetype": "text/x-python",
   "name": "python",
   "nbconvert_exporter": "python",
   "pygments_lexer": "ipython3",
   "version": "3.7.1"
  }
 },
 "nbformat": 4,
 "nbformat_minor": 2
}
