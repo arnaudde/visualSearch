{
 "cells": [
  {
   "cell_type": "code",
   "execution_count": 1,
   "metadata": {},
   "outputs": [],
   "source": [
    "from sklearn.metrics import confusion_matrix\n",
    "import pandas as pd\n",
    "import os\n",
    "from os import listdir\n",
    "import pickle as pk\n",
    "import json\n",
    "import numpy as np"
   ]
  },
  {
   "cell_type": "code",
   "execution_count": 2,
   "metadata": {},
   "outputs": [],
   "source": [
    "def load_from_json(file:str):\n",
    "    return json.loads(open(f'embeddings/{file}').read())"
   ]
  },
  {
   "cell_type": "code",
   "execution_count": 3,
   "metadata": {},
   "outputs": [],
   "source": [
    "from sklearn.neighbors import KNeighborsClassifier\n",
    "def train_knn_and_test(features, labels, sample_for_score=500):\n",
    "    start = time.time()\n",
    "    knn = KNeighborsClassifier(n_neighbors=10)\n",
    "    knn.fit(features,labels)\n",
    "    return knn,knn.score(features[:sample_for_score], labels[:sample_for_score]), time.time()-start"
   ]
  },
  {
   "cell_type": "code",
   "execution_count": 4,
   "metadata": {},
   "outputs": [],
   "source": [
    "from sklearn.decomposition import PCA\n",
    "def train_pca(train_set, percentage=90):\n",
    "    for i in range(50,min(sample_size,4096),50):\n",
    "        pca = PCA(n_components=i)\n",
    "        pca.fit(train_set)\n",
    "        if np.sum(100*pca.explained_variance_ratio_) > percentage:\n",
    "            return i,pca"
   ]
  },
  {
   "cell_type": "markdown",
   "metadata": {},
   "source": [
    "## Training with and without pca"
   ]
  },
  {
   "cell_type": "markdown",
   "metadata": {},
   "source": [
    "0.718 accuracy sur 1000 examples 10nn 20k"
   ]
  },
  {
   "cell_type": "code",
   "execution_count": 5,
   "metadata": {},
   "outputs": [],
   "source": [
    "import time"
   ]
  },
  {
   "cell_type": "code",
   "execution_count": 8,
   "metadata": {},
   "outputs": [
    {
     "data": {
      "text/plain": [
       "['embeddingsresnet50_20000.json',\n",
       " 'embeddingsresnet50_30000.json',\n",
       " 'embeddingsresnet50_50000.json',\n",
       " '.ipynb_checkpoints',\n",
       " 'embeddingsvgg16_3000.json',\n",
       " 'embeddingsresnet50_10000.json']"
      ]
     },
     "execution_count": 8,
     "metadata": {},
     "output_type": "execute_result"
    }
   ],
   "source": [
    "listdir('./embeddings')"
   ]
  },
  {
   "cell_type": "code",
   "execution_count": 11,
   "metadata": {
    "scrolled": true
   },
   "outputs": [
    {
     "name": "stdout",
     "output_type": "stream",
     "text": [
      "20000\n",
      "Trained pca with 250 components\n",
      "   PCA  Train accuracy  Sample size  Execution time\n",
      "0  0.0           0.718      20000.0       41.338886\n",
      "1  1.0           0.708      20000.0        5.888561\n",
      "30000\n",
      "Trained pca with 250 components\n",
      "   PCA  Train accuracy  Sample size  Execution time\n",
      "0  0.0           0.718      20000.0       41.338886\n",
      "1  1.0           0.708      20000.0        5.888561\n",
      "2  0.0           0.740      30000.0       58.010997\n",
      "3  1.0           0.744      30000.0        7.683334\n",
      "50000\n",
      "Trained pca with 250 components\n",
      "   PCA  Train accuracy  Sample size  Execution time\n",
      "0  0.0           0.718      20000.0       41.338886\n",
      "1  1.0           0.708      20000.0        5.888561\n",
      "2  0.0           0.740      30000.0       58.010997\n",
      "3  1.0           0.744      30000.0        7.683334\n",
      "4  0.0           0.766      50000.0      101.989553\n",
      "5  1.0           0.766      50000.0       13.048629\n",
      "10000\n",
      "Trained pca with 250 components\n",
      "   PCA  Train accuracy  Sample size  Execution time\n",
      "0  0.0           0.718      20000.0       41.338886\n",
      "1  1.0           0.708      20000.0        5.888561\n",
      "2  0.0           0.740      30000.0       58.010997\n",
      "3  1.0           0.744      30000.0        7.683334\n",
      "4  0.0           0.766      50000.0      101.989553\n",
      "5  1.0           0.766      50000.0       13.048629\n",
      "6  0.0           0.708      10000.0       20.843700\n",
      "7  1.0           0.716      10000.0        2.983448\n"
     ]
    },
    {
     "data": {
      "text/html": [
       "<div>\n",
       "<style>\n",
       "    .dataframe thead tr:only-child th {\n",
       "        text-align: right;\n",
       "    }\n",
       "\n",
       "    .dataframe thead th {\n",
       "        text-align: left;\n",
       "    }\n",
       "\n",
       "    .dataframe tbody tr th {\n",
       "        vertical-align: top;\n",
       "    }\n",
       "</style>\n",
       "<table border=\"1\" class=\"dataframe\">\n",
       "  <thead>\n",
       "    <tr style=\"text-align: right;\">\n",
       "      <th></th>\n",
       "      <th>PCA</th>\n",
       "      <th>Train accuracy</th>\n",
       "      <th>Sample size</th>\n",
       "      <th>Execution time</th>\n",
       "    </tr>\n",
       "  </thead>\n",
       "  <tbody>\n",
       "    <tr>\n",
       "      <th>0</th>\n",
       "      <td>0.0</td>\n",
       "      <td>0.718</td>\n",
       "      <td>20000.0</td>\n",
       "      <td>41.338886</td>\n",
       "    </tr>\n",
       "    <tr>\n",
       "      <th>1</th>\n",
       "      <td>1.0</td>\n",
       "      <td>0.708</td>\n",
       "      <td>20000.0</td>\n",
       "      <td>5.888561</td>\n",
       "    </tr>\n",
       "    <tr>\n",
       "      <th>2</th>\n",
       "      <td>0.0</td>\n",
       "      <td>0.740</td>\n",
       "      <td>30000.0</td>\n",
       "      <td>58.010997</td>\n",
       "    </tr>\n",
       "    <tr>\n",
       "      <th>3</th>\n",
       "      <td>1.0</td>\n",
       "      <td>0.744</td>\n",
       "      <td>30000.0</td>\n",
       "      <td>7.683334</td>\n",
       "    </tr>\n",
       "    <tr>\n",
       "      <th>4</th>\n",
       "      <td>0.0</td>\n",
       "      <td>0.766</td>\n",
       "      <td>50000.0</td>\n",
       "      <td>101.989553</td>\n",
       "    </tr>\n",
       "    <tr>\n",
       "      <th>5</th>\n",
       "      <td>1.0</td>\n",
       "      <td>0.766</td>\n",
       "      <td>50000.0</td>\n",
       "      <td>13.048629</td>\n",
       "    </tr>\n",
       "    <tr>\n",
       "      <th>6</th>\n",
       "      <td>0.0</td>\n",
       "      <td>0.708</td>\n",
       "      <td>10000.0</td>\n",
       "      <td>20.843700</td>\n",
       "    </tr>\n",
       "    <tr>\n",
       "      <th>7</th>\n",
       "      <td>1.0</td>\n",
       "      <td>0.716</td>\n",
       "      <td>10000.0</td>\n",
       "      <td>2.983448</td>\n",
       "    </tr>\n",
       "  </tbody>\n",
       "</table>\n",
       "</div>"
      ],
      "text/plain": [
       "   PCA  Train accuracy  Sample size  Execution time\n",
       "0  0.0           0.718      20000.0       41.338886\n",
       "1  1.0           0.708      20000.0        5.888561\n",
       "2  0.0           0.740      30000.0       58.010997\n",
       "3  1.0           0.744      30000.0        7.683334\n",
       "4  0.0           0.766      50000.0      101.989553\n",
       "5  1.0           0.766      50000.0       13.048629\n",
       "6  0.0           0.708      10000.0       20.843700\n",
       "7  1.0           0.716      10000.0        2.983448"
      ]
     },
     "execution_count": 11,
     "metadata": {},
     "output_type": "execute_result"
    }
   ],
   "source": [
    "j = 0\n",
    "df = pd.DataFrame(columns=['PCA','Train accuracy','Sample size', 'Execution time'])\n",
    "for file in listdir('./embeddings'):\n",
    "    if '.json' in file and 'resnet' in file:\n",
    "        sample_size = int(file[file.index('_')+1:file.index('.')])\n",
    "        print(sample_size)\n",
    "        [embeddings, labels] = load_from_json(file)\n",
    "\n",
    "        # Train knn\n",
    "        knn, knn_score,tme = train_knn_and_test(embeddings, labels)\n",
    "        \n",
    "        df.loc[j] = [0,knn_score, sample_size, tme]\n",
    "        j += 1\n",
    "        # Fit pca\n",
    "        i,pca = train_pca(embeddings)\n",
    "        print(f'Trained pca with {i} components')\n",
    "        \n",
    "        # Train knn\n",
    "        knn, knn_score, tme = train_knn_and_test(pca.transform(embeddings),labels)\n",
    "        df.loc[j] = [1,knn_score,sample_size, tme]\n",
    "        j+=1\n",
    "        print(df)\n",
    "df\n",
    "        "
   ]
  },
  {
   "cell_type": "code",
   "execution_count": 16,
   "metadata": {},
   "outputs": [
    {
     "data": {
      "text/html": [
       "<div>\n",
       "<style>\n",
       "    .dataframe thead tr:only-child th {\n",
       "        text-align: right;\n",
       "    }\n",
       "\n",
       "    .dataframe thead th {\n",
       "        text-align: left;\n",
       "    }\n",
       "\n",
       "    .dataframe tbody tr th {\n",
       "        vertical-align: top;\n",
       "    }\n",
       "</style>\n",
       "<table border=\"1\" class=\"dataframe\">\n",
       "  <thead>\n",
       "    <tr style=\"text-align: right;\">\n",
       "      <th></th>\n",
       "      <th>PCA</th>\n",
       "      <th>Train accuracy</th>\n",
       "      <th>Sample size</th>\n",
       "      <th>Execution time</th>\n",
       "    </tr>\n",
       "  </thead>\n",
       "  <tbody>\n",
       "    <tr>\n",
       "      <th>4</th>\n",
       "      <td>0.0</td>\n",
       "      <td>0.766</td>\n",
       "      <td>50000.0</td>\n",
       "      <td>101.989553</td>\n",
       "    </tr>\n",
       "    <tr>\n",
       "      <th>5</th>\n",
       "      <td>1.0</td>\n",
       "      <td>0.766</td>\n",
       "      <td>50000.0</td>\n",
       "      <td>13.048629</td>\n",
       "    </tr>\n",
       "    <tr>\n",
       "      <th>3</th>\n",
       "      <td>1.0</td>\n",
       "      <td>0.744</td>\n",
       "      <td>30000.0</td>\n",
       "      <td>7.683334</td>\n",
       "    </tr>\n",
       "    <tr>\n",
       "      <th>2</th>\n",
       "      <td>0.0</td>\n",
       "      <td>0.740</td>\n",
       "      <td>30000.0</td>\n",
       "      <td>58.010997</td>\n",
       "    </tr>\n",
       "    <tr>\n",
       "      <th>0</th>\n",
       "      <td>0.0</td>\n",
       "      <td>0.718</td>\n",
       "      <td>20000.0</td>\n",
       "      <td>41.338886</td>\n",
       "    </tr>\n",
       "    <tr>\n",
       "      <th>7</th>\n",
       "      <td>1.0</td>\n",
       "      <td>0.716</td>\n",
       "      <td>10000.0</td>\n",
       "      <td>2.983448</td>\n",
       "    </tr>\n",
       "    <tr>\n",
       "      <th>1</th>\n",
       "      <td>1.0</td>\n",
       "      <td>0.708</td>\n",
       "      <td>20000.0</td>\n",
       "      <td>5.888561</td>\n",
       "    </tr>\n",
       "    <tr>\n",
       "      <th>6</th>\n",
       "      <td>0.0</td>\n",
       "      <td>0.708</td>\n",
       "      <td>10000.0</td>\n",
       "      <td>20.843700</td>\n",
       "    </tr>\n",
       "  </tbody>\n",
       "</table>\n",
       "</div>"
      ],
      "text/plain": [
       "   PCA  Train accuracy  Sample size  Execution time\n",
       "4  0.0           0.766      50000.0      101.989553\n",
       "5  1.0           0.766      50000.0       13.048629\n",
       "3  1.0           0.744      30000.0        7.683334\n",
       "2  0.0           0.740      30000.0       58.010997\n",
       "0  0.0           0.718      20000.0       41.338886\n",
       "7  1.0           0.716      10000.0        2.983448\n",
       "1  1.0           0.708      20000.0        5.888561\n",
       "6  0.0           0.708      10000.0       20.843700"
      ]
     },
     "execution_count": 16,
     "metadata": {},
     "output_type": "execute_result"
    }
   ],
   "source": [
    "df.sort_values(by=\"Train accuracy\", ascending=False)"
   ]
  },
  {
   "cell_type": "code",
   "execution_count": 17,
   "metadata": {},
   "outputs": [
    {
     "data": {
      "text/html": [
       "<div>\n",
       "<style>\n",
       "    .dataframe thead tr:only-child th {\n",
       "        text-align: right;\n",
       "    }\n",
       "\n",
       "    .dataframe thead th {\n",
       "        text-align: left;\n",
       "    }\n",
       "\n",
       "    .dataframe tbody tr th {\n",
       "        vertical-align: top;\n",
       "    }\n",
       "</style>\n",
       "<table border=\"1\" class=\"dataframe\">\n",
       "  <thead>\n",
       "    <tr style=\"text-align: right;\">\n",
       "      <th></th>\n",
       "      <th>PCA</th>\n",
       "      <th>Train accuracy</th>\n",
       "      <th>Sample size</th>\n",
       "      <th>Execution time</th>\n",
       "    </tr>\n",
       "  </thead>\n",
       "  <tbody>\n",
       "    <tr>\n",
       "      <th>4</th>\n",
       "      <td>0.0</td>\n",
       "      <td>0.766</td>\n",
       "      <td>50000.0</td>\n",
       "      <td>101.989553</td>\n",
       "    </tr>\n",
       "    <tr>\n",
       "      <th>2</th>\n",
       "      <td>0.0</td>\n",
       "      <td>0.740</td>\n",
       "      <td>30000.0</td>\n",
       "      <td>58.010997</td>\n",
       "    </tr>\n",
       "    <tr>\n",
       "      <th>0</th>\n",
       "      <td>0.0</td>\n",
       "      <td>0.718</td>\n",
       "      <td>20000.0</td>\n",
       "      <td>41.338886</td>\n",
       "    </tr>\n",
       "    <tr>\n",
       "      <th>6</th>\n",
       "      <td>0.0</td>\n",
       "      <td>0.708</td>\n",
       "      <td>10000.0</td>\n",
       "      <td>20.843700</td>\n",
       "    </tr>\n",
       "    <tr>\n",
       "      <th>5</th>\n",
       "      <td>1.0</td>\n",
       "      <td>0.766</td>\n",
       "      <td>50000.0</td>\n",
       "      <td>13.048629</td>\n",
       "    </tr>\n",
       "    <tr>\n",
       "      <th>3</th>\n",
       "      <td>1.0</td>\n",
       "      <td>0.744</td>\n",
       "      <td>30000.0</td>\n",
       "      <td>7.683334</td>\n",
       "    </tr>\n",
       "    <tr>\n",
       "      <th>1</th>\n",
       "      <td>1.0</td>\n",
       "      <td>0.708</td>\n",
       "      <td>20000.0</td>\n",
       "      <td>5.888561</td>\n",
       "    </tr>\n",
       "    <tr>\n",
       "      <th>7</th>\n",
       "      <td>1.0</td>\n",
       "      <td>0.716</td>\n",
       "      <td>10000.0</td>\n",
       "      <td>2.983448</td>\n",
       "    </tr>\n",
       "  </tbody>\n",
       "</table>\n",
       "</div>"
      ],
      "text/plain": [
       "   PCA  Train accuracy  Sample size  Execution time\n",
       "4  0.0           0.766      50000.0      101.989553\n",
       "2  0.0           0.740      30000.0       58.010997\n",
       "0  0.0           0.718      20000.0       41.338886\n",
       "6  0.0           0.708      10000.0       20.843700\n",
       "5  1.0           0.766      50000.0       13.048629\n",
       "3  1.0           0.744      30000.0        7.683334\n",
       "1  1.0           0.708      20000.0        5.888561\n",
       "7  1.0           0.716      10000.0        2.983448"
      ]
     },
     "execution_count": 17,
     "metadata": {},
     "output_type": "execute_result"
    }
   ],
   "source": [
    "df.sort_values(by=\"Execution time\", ascending=False)"
   ]
  },
  {
   "cell_type": "code",
   "execution_count": 207,
   "metadata": {},
   "outputs": [
    {
     "data": {
      "text/plain": [
       "array([[23,  6,  4,  3,  2,  2,  3,  2,  6,  4],\n",
       "       [ 4, 23,  6,  2,  2,  3,  3,  4,  4,  8],\n",
       "       [ 3,  2, 13,  3,  4,  2,  2,  2,  0,  0],\n",
       "       [ 2,  4,  7, 15,  3, 12,  3,  2,  4,  2],\n",
       "       [ 1,  0, 12, 11, 24,  9, 17, 10,  4,  0],\n",
       "       [ 5,  5,  3, 10,  4, 15,  6,  9,  1,  2],\n",
       "       [ 1,  5,  9,  8,  5,  4, 28,  0,  1,  2],\n",
       "       [ 2,  5,  3,  0,  8,  3,  2, 13,  2,  7],\n",
       "       [17,  1,  0,  0,  1,  1,  1,  1, 40,  1],\n",
       "       [ 6, 12,  1,  3,  3,  2,  4,  3,  5, 43]])"
      ]
     },
     "execution_count": 207,
     "metadata": {},
     "output_type": "execute_result"
    }
   ],
   "source": [
    "confusion_matrix(knn.predict(pca.transform(feats_dev)), labels_dev)\n",
    "#['airplane', 'automobile', 'bird', 'cat', 'deer', 'dog', 'frog', 'horse', 'ship', 'truck']"
   ]
  },
  {
   "cell_type": "code",
   "execution_count": 68,
   "metadata": {},
   "outputs": [],
   "source": [
    "from sklearn.manifold import TSNE\n",
    "embeddings = np.array(load_from_json('embeddings_3000.json'))\n"
   ]
  },
  {
   "cell_type": "markdown",
   "metadata": {},
   "source": [
    "## Training with and without t-SNE"
   ]
  }
 ],
 "metadata": {
  "kernelspec": {
   "display_name": "Python 3",
   "language": "python",
   "name": "python3"
  },
  "language_info": {
   "codemirror_mode": {
    "name": "ipython",
    "version": 3
   },
   "file_extension": ".py",
   "mimetype": "text/x-python",
   "name": "python",
   "nbconvert_exporter": "python",
   "pygments_lexer": "ipython3",
   "version": "3.6.3"
  }
 },
 "nbformat": 4,
 "nbformat_minor": 2
}
