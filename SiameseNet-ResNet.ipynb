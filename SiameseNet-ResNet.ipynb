{
 "cells": [
  {
   "cell_type": "code",
   "execution_count": 31,
   "metadata": {},
   "outputs": [],
   "source": [
    "import numpy as np\n",
    "import keras\n",
    "import pickle as pk\n",
    "import matplotlib.pyplot as plt\n",
    "import os\n",
    "from keras.applications.resnet50 import ResNet50\n",
    "from keras.applications.vgg16 import VGG16\n",
    "from keras.preprocessing import image\n",
    "from keras.applications.resnet50 import preprocess_input\n",
    "from keras.layers import UpSampling2D, Input\n",
    "from keras.models import Model, Sequential"
   ]
  },
  {
   "cell_type": "code",
   "execution_count": 57,
   "metadata": {},
   "outputs": [
    {
     "name": "stdout",
     "output_type": "stream",
     "text": [
      "__________________________________________________________________________________________________\n",
      "Layer (type)                    Output Shape         Param #     Connected to                     \n",
      "==================================================================================================\n",
      "right_input (InputLayer)        (None, 32, 32, 3)    0                                            \n",
      "__________________________________________________________________________________________________\n",
      "left_input (InputLayer)         (None, 32, 32, 3)    0                                            \n",
      "__________________________________________________________________________________________________\n",
      "up_sampling2d_10 (UpSampling2D) (None, 224, 224, 3)  0           right_input[0][0]                \n",
      "__________________________________________________________________________________________________\n",
      "up_sampling2d_11 (UpSampling2D) (None, 224, 224, 3)  0           left_input[0][0]                 \n",
      "__________________________________________________________________________________________________\n",
      "resnet50 (Model)                multiple             23587712    up_sampling2d_10[0][0]           \n",
      "                                                                 up_sampling2d_11[0][0]           \n",
      "__________________________________________________________________________________________________\n",
      "subtract_3 (Subtract)           (None, 2048)         0           resnet50[1][0]                   \n",
      "                                                                 resnet50[2][0]                   \n",
      "__________________________________________________________________________________________________\n",
      "dist (Dense)                    (None, 1)            2049        subtract_3[0][0]                 \n",
      "==================================================================================================\n",
      "Total params: 23,589,761\n",
      "Trainable params: 23,536,641\n",
      "Non-trainable params: 53,120\n",
      "__________________________________________________________________________________________________\n"
     ]
    },
    {
     "name": "stderr",
     "output_type": "stream",
     "text": [
      "/Users/charles/miniconda3/lib/python3.6/site-packages/ipykernel_launcher.py:24: UserWarning: Update your `Model` call to the Keras 2 API: `Model(inputs=[<tf.Tenso..., outputs=Tensor(\"di...)`\n"
     ]
    }
   ],
   "source": [
    "### Define model\n",
    "\n",
    "# Load ResNet NN and keep only the relevant layers\n",
    "\n",
    "#TODO: add dropout\n",
    "\n",
    "#resnet = ResNet50(weights='imagenet', include_top=True)\n",
    "resnet = ResNet50(weights=None, include_top=True)\n",
    "resnet.layers.pop()\n",
    "resnet.outputs = [resnet.layers[-1].output]\n",
    "resnet.layers[-1].outbound_nodes = []\n",
    "\n",
    "# Def right and left inputs\n",
    "left_img = Input(shape=(32, 32, 3), name='left_input')\n",
    "right_img = Input(shape=(32, 32, 3), name='right_input')\n",
    "left_inp = UpSampling2D(size =(7,7))(right_img)\n",
    "right_inp = UpSampling2D(size =(7,7))(left_img)\n",
    "\n",
    "# Def model\n",
    "left_out = resnet(left_inp)\n",
    "right_out = resnet(right_inp)\n",
    "diff = keras.layers.subtract([left_out, right_out])\n",
    "prediction = keras.layers.Dense(1,activation='sigmoid', name='dist')(diff)\n",
    "siamese_net = Model(input=[left_img,right_img],output=prediction)\n",
    "\n",
    "# Compile model\n",
    "adadelta = keras.optimizers.Adadelta()\n",
    "siamese_net.compile(loss='binary_crossentropy', optimizer=adadelta)\n",
    "\n",
    "# Print information about the model\n",
    "siamese_net.summary()"
   ]
  },
  {
   "cell_type": "markdown",
   "metadata": {},
   "source": [
    "### Feature extractor"
   ]
  },
  {
   "cell_type": "code",
   "execution_count": null,
   "metadata": {},
   "outputs": [],
   "source": [
    "# Extract ResNet weight fine tuned\n",
    "resnet_tuned = siamese_net.layers[4]\n",
    "img = Input(shape=(32, 32, 3), name='input')\n",
    "img2 = UpSampling2D(size =(7,7))(img)\n",
    "\n",
    "# Def model\n",
    "feat = resnet_tuned(img2)\n",
    "extractor = Model(input=img, output=feat)\n",
    "extractor.summary()"
   ]
  },
  {
   "cell_type": "markdown",
   "metadata": {},
   "source": [
    "### Define custom distance for our k-NN"
   ]
  },
  {
   "cell_type": "code",
   "execution_count": 62,
   "metadata": {},
   "outputs": [
    {
     "name": "stdout",
     "output_type": "stream",
     "text": [
      "_________________________________________________________________\n",
      "Layer (type)                 Output Shape              Param #   \n",
      "=================================================================\n",
      "input (InputLayer)           (None, 32, 32, 3)         0         \n",
      "_________________________________________________________________\n",
      "up_sampling2d_16 (UpSampling (None, 224, 224, 3)       0         \n",
      "_________________________________________________________________\n",
      "resnet50 (Model)             multiple                  23587712  \n",
      "=================================================================\n",
      "Total params: 23,587,712\n",
      "Trainable params: 23,534,592\n",
      "Non-trainable params: 53,120\n",
      "_________________________________________________________________\n"
     ]
    },
    {
     "name": "stderr",
     "output_type": "stream",
     "text": [
      "/Users/charles/miniconda3/lib/python3.6/site-packages/ipykernel_launcher.py:21: UserWarning: Update your `Model` call to the Keras 2 API: `Model(inputs=Tensor(\"in..., outputs=Tensor(\"re...)`\n"
     ]
    }
   ],
   "source": [
    "# Extract distance layer from our model, and use it for the k-NN\n",
    "dist_layer = siamese_net.get_layer('dist').get_weights()\n",
    "def cust_dist(x, y):\n",
    "    \"\"\"Distance using the metric learned by our SiameseNet\n",
    "    Args:\n",
    "        x, y: (array (2048,)): the features to use\n",
    "    return:\n",
    "        dist: (float) distance value\n",
    "    \"\"\"\n",
    "    temp = np.abs(x-y)\n",
    "    return np.dot(dist_layer, temp)\n"
   ]
  },
  {
   "cell_type": "code",
   "execution_count": 42,
   "metadata": {},
   "outputs": [],
   "source": [
    "def get_pairs(positive_percentage=0.5, cifar_batch_id=1, batch_size=32):\n",
    "    pairs = []\n",
    "    feats, labels = load_batch('cifar10', cifar_batch_id)\n",
    "    indexes = np.random.randint(len(labels),size=batch_size)\n",
    "    sample_images = np.take(feats, indexes, axis=0)\n",
    "    sample_labels = np.take(labels, indexes, axis=0)\n",
    "    other_indexes = np.delete(range(len(labels)), indexes)\n",
    "    other_feats = np.take(feats, other_indexes, axis=0)\n",
    "    other_labels = np.take(labels, other_indexes)\n",
    "    for i in range(batch_size):\n",
    "        if i < int(batch_size*positive_percentage):\n",
    "            index_of_label = np.where(other_labels==sample_labels[i])[0]\n",
    "        else :\n",
    "            index_of_label = np.where(other_labels!=sample_labels[i])[0]\n",
    "        index = np.take(index_of_label, np.random.randint(len(index_of_label)))\n",
    "        other_image = other_feats[index]\n",
    "        plt.figure()\n",
    "        plt.subplot(\"121\")\n",
    "        plt.imshow(other_image)\n",
    "        plt.subplot(\"122\")\n",
    "        plt.imshow(sample_images[i])\n",
    "        pairs.append([sample_images[i], other_image])\n",
    "    return np.array(pairs)"
   ]
  },
  {
   "cell_type": "code",
   "execution_count": null,
   "metadata": {},
   "outputs": [],
   "source": []
  }
 ],
 "metadata": {
  "kernelspec": {
   "display_name": "Python 3",
   "language": "python",
   "name": "python3"
  },
  "language_info": {
   "codemirror_mode": {
    "name": "ipython",
    "version": 3
   },
   "file_extension": ".py",
   "mimetype": "text/x-python",
   "name": "python",
   "nbconvert_exporter": "python",
   "pygments_lexer": "ipython3",
   "version": "3.6.7"
  }
 },
 "nbformat": 4,
 "nbformat_minor": 2
}
