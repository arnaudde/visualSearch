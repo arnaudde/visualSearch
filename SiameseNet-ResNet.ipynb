{
 "cells": [
  {
   "cell_type": "code",
   "execution_count": 2,
   "metadata": {},
   "outputs": [],
   "source": [
    "%load_ext autoreload\n",
    "%autoreload 2"
   ]
  },
  {
   "cell_type": "code",
   "execution_count": 3,
   "metadata": {},
   "outputs": [
    {
     "name": "stderr",
     "output_type": "stream",
     "text": [
      "/home/paperspace/anaconda3/lib/python3.6/site-packages/h5py/__init__.py:36: FutureWarning: Conversion of the second argument of issubdtype from `float` to `np.floating` is deprecated. In future, it will be treated as `np.float64 == np.dtype(float).type`.\n",
      "  from ._conv import register_converters as _register_converters\n",
      "Using TensorFlow backend.\n"
     ]
    }
   ],
   "source": [
    "import numpy as np\n",
    "import keras\n",
    "import pickle as pk\n",
    "import matplotlib.pyplot as plt\n",
    "import os\n",
    "from skimage.transform import resize\n",
    "from keras.applications.resnet50 import ResNet50\n",
    "from keras.applications.vgg16 import VGG16\n",
    "from keras.preprocessing import image\n",
    "from keras.applications.resnet50 import preprocess_input\n",
    "from keras.layers import UpSampling2D, Input, Flatten, Lambda\n",
    "from keras.models import Model, Sequential\n",
    "from keras import regularizers\n",
    "from keras import backend as K\n",
    "from utils import *\n"
   ]
  },
  {
   "cell_type": "markdown",
   "metadata": {},
   "source": [
    "### Define SiameseNet model"
   ]
  },
  {
   "cell_type": "code",
   "execution_count": 5,
   "metadata": {},
   "outputs": [
    {
     "name": "stdout",
     "output_type": "stream",
     "text": [
      "__________________________________________________________________________________________________\n",
      "Layer (type)                    Output Shape         Param #     Connected to                     \n",
      "==================================================================================================\n",
      "left_input (InputLayer)         (None, 32, 32, 3)    0                                            \n",
      "__________________________________________________________________________________________________\n",
      "right_input (InputLayer)        (None, 32, 32, 3)    0                                            \n",
      "__________________________________________________________________________________________________\n",
      "lambda_2 (Lambda)               (None, 224, 224, 3)  0           left_input[0][0]                 \n",
      "__________________________________________________________________________________________________\n",
      "lambda_3 (Lambda)               (None, 224, 224, 3)  0           right_input[0][0]                \n",
      "__________________________________________________________________________________________________\n",
      "resnet50 (Model)                multiple             23587712    lambda_2[0][0]                   \n",
      "                                                                 lambda_3[0][0]                   \n",
      "__________________________________________________________________________________________________\n",
      "subtract_1 (Subtract)           (None, 1, 1, 2048)   0           resnet50[1][0]                   \n",
      "                                                                 resnet50[2][0]                   \n",
      "__________________________________________________________________________________________________\n",
      "lambda_4 (Lambda)               (None, 1, 1, 2048)   0           subtract_1[0][0]                 \n",
      "__________________________________________________________________________________________________\n",
      "flatten_1 (Flatten)             (None, 2048)         0           lambda_4[0][0]                   \n",
      "__________________________________________________________________________________________________\n",
      "dist (Dense)                    (None, 1)            2049        flatten_1[0][0]                  \n",
      "==================================================================================================\n",
      "Total params: 23,589,761\n",
      "Trainable params: 4,467,713\n",
      "Non-trainable params: 19,122,048\n",
      "__________________________________________________________________________________________________\n"
     ]
    }
   ],
   "source": [
    "### Define model\n",
    "\n",
    "resnet = ResNet50(weights='imagenet', include_top=False)\n",
    "for layer in resnet.layers[:-12]:\n",
    "    layer.trainable = False\n",
    "\n",
    "# Def right and left inputs\n",
    "left_img = Input(shape=(32, 32, 3), name='left_input')\n",
    "right_img = Input(shape=(32, 32, 3), name='right_input')\n",
    "left_inp = Lambda(lambda img: K.tf.image.resize_images(left_img, (224, 224)))(left_img)\n",
    "right_inp = Lambda(lambda img: K.tf.image.resize_images(right_img, (224, 224)))(right_img)\n",
    "left_out = resnet(left_inp)\n",
    "right_out = resnet(right_inp)\n",
    "diff = keras.layers.subtract([left_out, right_out])\n",
    "diff2 = Lambda(lambda x: K.abs(x))(diff)\n",
    "diff3 = Flatten()(diff2)\n",
    "\n",
    "prediction = keras.layers.Dense(1,activation='sigmoid', name='dist',\n",
    "                               kernel_regularizer=regularizers.l2(0.01))(diff3)\n",
    "siamese_net = Model(inputs=[left_img,right_img],outputs=prediction)\n",
    "\n",
    "# Compile model\n",
    "adadelta = keras.optimizers.Adadelta(lr=0.001)\n",
    "siamese_net.compile(loss='binary_crossentropy', optimizer=adadelta, metrics=['accuracy'])\n",
    "\n",
    "# Print information about the model\n",
    "siamese_net.summary()"
   ]
  },
  {
   "cell_type": "markdown",
   "metadata": {},
   "source": [
    "### Feature extractor"
   ]
  },
  {
   "cell_type": "code",
   "execution_count": null,
   "metadata": {},
   "outputs": [],
   "source": [
    "# Extract ResNet weight fine tuned\n",
    "resnet_tuned = siamese_net.layers[4]\n",
    "img = Input(shape=(32, 32, 3), name='input')\n",
    "img2 = UpSampling2D(size =(7,7))(img)\n",
    "\n",
    "# Def model\n",
    "feat = resnet_tuned(img2)\n",
    "extractor = Model(input=img, output=feat)\n",
    "extractor.summary()"
   ]
  },
  {
   "cell_type": "markdown",
   "metadata": {},
   "source": [
    "### Define custom distance for our k-NN"
   ]
  },
  {
   "cell_type": "code",
   "execution_count": null,
   "metadata": {},
   "outputs": [],
   "source": [
    "# Extract distance layer from our model, and use it for the k-NN\n",
    "dist_layer = siamese_net.get_layer('dist').get_weights()\n",
    "def cust_dist(x, y):\n",
    "    \"\"\"Distance using the metric learned by our SiameseNet\n",
    "    Args:\n",
    "        x, y: (array (2048,)): the features to use\n",
    "    return:\n",
    "        dist: (float) distance value\n",
    "    \"\"\"\n",
    "    temp = np.abs(x-y)\n",
    "    return np.dot(dist_layer, temp)\n"
   ]
  },
  {
   "cell_type": "markdown",
   "metadata": {},
   "source": [
    "### Siamese Networks training"
   ]
  },
  {
   "cell_type": "code",
   "execution_count": null,
   "metadata": {},
   "outputs": [
    {
     "name": "stdout",
     "output_type": "stream",
     "text": [
      "Train on 20000 samples, validate on 5000 samples\n",
      "Epoch 1/10\n",
      " - 246s - loss: 0.7573 - acc: 0.5017 - val_loss: 0.7946 - val_acc: 0.5078\n",
      "Epoch 2/10\n"
     ]
    }
   ],
   "source": [
    "historyTrain = siamese_net.fit(dataset, dataset_labels, epochs=10,\n",
    "                          batch_size=16, verbose=2, validation_split=0.2,\n",
    "                          shuffle=True)"
   ]
  },
  {
   "cell_type": "code",
   "execution_count": 7,
   "metadata": {},
   "outputs": [],
   "source": [
    "# Create toy dataset (to be improved)\n",
    "data_path = 'cifar10/'\n",
    "dataset = [[], []]\n",
    "dataset_labels = []\n",
    "cifar_batch_id = [1, 2, 3, 4 , 5]\n",
    "nb_pairs_per_batch = 5000\n",
    "for batch in cifar_batch_id:\n",
    "    data, y = get_pairs(data_path, 0.5, batch, batch_size=nb_pairs_per_batch)\n",
    "    dataset[0] += [data[0]]\n",
    "    dataset[1] += [data[1]]\n",
    "    dataset_labels += [y]\n",
    "dataset[0] = np.concatenate(dataset[0])\n",
    "dataset[1] = np.concatenate(dataset[1])\n",
    "dataset_labels = np.concatenate(dataset_labels)\n",
    "\n",
    "# Shuffle\n",
    "idxes = np.arange(dataset_labels.shape[0])\n",
    "np.random.shuffle(idxes)\n",
    "dataset[0] = dataset[0][idxes]\n",
    "dataset[1] = dataset[1][idxes]\n",
    "dataset_labels = dataset_labels[idxes]"
   ]
  },
  {
   "cell_type": "code",
   "execution_count": null,
   "metadata": {},
   "outputs": [],
   "source": [
    "# Create toy test dataset\n",
    "data_path = 'cifar10/'\n",
    "test_dataset = [None, None]\n",
    "test_dataset_labels = []\n",
    "nb_pairs_per_batch = 1000\n",
    "data, y = get_pairs(data_path, 0.5, 'test', batch_size=nb_pairs_per_batch)\n",
    "test_dataset[0] = data[0]\n",
    "test_dataset[1] = data[1]\n",
    "test_dataset_labels = y\n",
    "\n",
    "# Shuffle\n",
    "idxes = np.arange(test_dataset_labels.shape[0])\n",
    "np.random.shuffle(idxes)\n",
    "test_dataset[0] = test_dataset[0][idxes]\n",
    "test_dataset[1] = test_dataset[1][idxes]\n",
    "test_dataset_labels = test_dataset_labels[idxes]"
   ]
  },
  {
   "cell_type": "code",
   "execution_count": null,
   "metadata": {},
   "outputs": [],
   "source": []
  }
 ],
 "metadata": {
  "kernelspec": {
   "display_name": "Python 3",
   "language": "python",
   "name": "python3"
  },
  "language_info": {
   "codemirror_mode": {
    "name": "ipython",
    "version": 3
   },
   "file_extension": ".py",
   "mimetype": "text/x-python",
   "name": "python",
   "nbconvert_exporter": "python",
   "pygments_lexer": "ipython3",
   "version": "3.6.3"
  }
 },
 "nbformat": 4,
 "nbformat_minor": 2
}
